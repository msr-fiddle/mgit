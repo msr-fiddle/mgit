{
 "cells": [
  {
   "cell_type": "code",
   "execution_count": 1,
   "metadata": {},
   "outputs": [
    {
     "data": {
      "text/html": [
       "<style>.container { width:100% !important; }</style>"
      ],
      "text/plain": [
       "<IPython.core.display.HTML object>"
      ]
     },
     "metadata": {},
     "output_type": "display_data"
    }
   ],
   "source": [
    "from IPython.display import display, HTML, IFrame\n",
    "display(HTML(\"<style>.container { width:100% !important; }</style>\"))"
   ]
  },
  {
   "cell_type": "markdown",
   "metadata": {},
   "source": [
    "# Task A"
   ]
  },
  {
   "cell_type": "markdown",
   "metadata": {},
   "source": [
    "Q2: All eight models that exhibit the bug are of T5 architecture, the rest 83 non-buggy models have different architectures than T5, for example: Bert, Roberta and Albert:\n",
    "```\n",
    "t5-base       google/byt5-base\t    google/flan-t5-base\t       google/mt5-base        google/long-t5-local-base       google/t5-v1_1-base       doc2query/all-t5-base-v1       vennify/t5-base-grammar-correction\n",
    "```\n",
    "\n",
    "The cause of the bug is that the T5 models were pre-trained with a mixed-precision of bf16 and fp32 but were loaded for inference in fp16 which causes overflow, along with their unique architecture. \n",
    "\n",
    "#### \\*\\*\\* Note: In the real world, this bug is commonly found among T5 architecure but less on other architecures, even if they were also trained with a mixed-precision of bf16 and fp32 and were loaded for inference in fp16.***\n",
    "\n",
    "* Imagine if there were a data structure that records how the models were created and there were edges between models who are related to each other, e.g. of similar architecture.\n",
    "\n",
    "* And the data structure were to be presented as a graph of models so that all of T5 models are in the same subgraph, which looks like:"
   ]
  },
  {
   "cell_type": "code",
   "execution_count": 3,
   "metadata": {
    "scrolled": false
   },
   "outputs": [
    {
     "data": {
      "text/html": [
       "\n",
       "        <iframe\n",
       "            width=\"800\"\n",
       "            height=\"450\"\n",
       "            src=\"LineageGraph.html\"\n",
       "            frameborder=\"0\"\n",
       "            allowfullscreen\n",
       "            \n",
       "        ></iframe>\n",
       "        "
      ],
      "text/plain": [
       "<IPython.lib.display.IFrame at 0x7f8a84162be0>"
      ]
     },
     "metadata": {},
     "output_type": "display_data"
    }
   ],
   "source": [
    "#Note that models/t5-base is the root of the rightmost subgraph in the graph, zoom in to find it \n",
    "display(IFrame('LineageGraph.html', width=800, height=450))"
   ]
  },
  {
   "cell_type": "markdown",
   "metadata": {},
   "source": [
    "* The data structure were aslo to provide you an API to traverse from the root node, which is the model ```models/t5-base```, of this subgraph, which conceptually looks like:\n",
    "\n",
    "```py\n",
    ">>>for child in graph.get_all_nodes(parent='t5-base'):\n",
    "...     _, test_result = child.run_test(test, return_results=True)\n",
    "```\n",
    "\n",
    "How useful do you feel the data structure can help you to find more buggy models than randomly iterating the test through models under the time constraint?"
   ]
  },
  {
   "cell_type": "markdown",
   "metadata": {},
   "source": [
    "#### On the scale of 0 to 10 where 0 is useless, 5 is average and 10 is invaluable, how would you rate the data structure?"
   ]
  },
  {
   "cell_type": "raw",
   "metadata": {},
   "source": []
  },
  {
   "cell_type": "markdown",
   "metadata": {},
   "source": [
    " "
   ]
  }
 ],
 "metadata": {
  "kernelspec": {
   "display_name": "Python 3",
   "language": "python",
   "name": "python3"
  },
  "language_info": {
   "codemirror_mode": {
    "name": "ipython",
    "version": 3
   },
   "file_extension": ".py",
   "mimetype": "text/x-python",
   "name": "python",
   "nbconvert_exporter": "python",
   "pygments_lexer": "ipython3",
   "version": "3.8.8"
  }
 },
 "nbformat": 4,
 "nbformat_minor": 5
}
