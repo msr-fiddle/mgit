{
 "cells": [
  {
   "cell_type": "code",
   "execution_count": 1,
   "metadata": {},
   "outputs": [
    {
     "data": {
      "text/html": [
       "<style>.container { width:100% !important; }</style>"
      ],
      "text/plain": [
       "<IPython.core.display.HTML object>"
      ]
     },
     "metadata": {},
     "output_type": "display_data"
    }
   ],
   "source": [
    "from IPython.display import display, HTML\n",
    "display(HTML(\"<style>.container { width:100% !important; }</style>\"))"
   ]
  },
  {
   "cell_type": "markdown",
   "metadata": {},
   "source": [
    "# Task B"
   ]
  },
  {
   "cell_type": "markdown",
   "metadata": {},
   "source": [
    "Q2: Our research shows that the robustness of models, i.e. the ability to keep the model accuracy unaffected by noises added to the input, can be inherited from pre-training model, e.g. masked language modeling, to the down stream model, e.g. sequence classification. As a result, training a new version of ```distilbert-sentiment```, you can call it ```distilbert-sentiment_versioned```, from ```distilbert_v2``` will often lead to higher model accuracy on ```sst2_shifted_eval``` compared with the original ```distilbert-sentiment``` who is trained from ```distilbert```.\n",
    "\n",
    "* Imagine for the same data structure introduced previously where the training process to produce ```distilbert-sentiment``` from ```distilbert``` were recorded. \n",
    "\n",
    "* The data structure were to provide you an API to enable efficient training to produce ```distilbert-sentiment_versioned``` from ```distilbert_v2```, which conceptually look like:\n",
    "```py\n",
    ">>> #old_base is the reference node where the training process to produce its down stream models is recorded, and new_base is the new pre-training node that the recorded training process will be replayed on.\n",
    ">>> #new_target is fine-tuned from new_base and is returned as the next version of old_target \n",
    ">>> new_target_node = g.update_cascade(old_base=g.get_node('distilbert'), new_base=g.get_node('distilbert_v2'), old_target=g.get_node('distilbert-sentiment'))\n",
    "```\n",
    "\n",
    "How useful do you feel the data structure can help you to produce ```distilbert-sentiment_versioned``` more quickly than implement the whole training process yourself?"
   ]
  },
  {
   "cell_type": "markdown",
   "metadata": {},
   "source": [
    "#### On the scale of 0 to 10 where 0 is useless, 5 is average and 10 is invaluable, how would you rate the data structure?"
   ]
  },
  {
   "cell_type": "raw",
   "metadata": {},
   "source": []
  }
 ],
 "metadata": {
  "kernelspec": {
   "display_name": "Python 3",
   "language": "python",
   "name": "python3"
  },
  "language_info": {
   "codemirror_mode": {
    "name": "ipython",
    "version": 3
   },
   "file_extension": ".py",
   "mimetype": "text/x-python",
   "name": "python",
   "nbconvert_exporter": "python",
   "pygments_lexer": "ipython3",
   "version": "3.8.8"
  }
 },
 "nbformat": 4,
 "nbformat_minor": 5
}
