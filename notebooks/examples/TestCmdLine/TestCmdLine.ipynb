{
 "cells": [
  {
   "cell_type": "code",
   "execution_count": null,
   "id": "50f8ca0e-ef7a-4153-88ce-e534247daae2",
   "metadata": {},
   "outputs": [],
   "source": [
    "import os\n",
    "#GPU_NO = \"3\"\n",
    "#os.environ[\"CUDA_VISIBLE_DEVICES\"] = GPU_NO\n",
    "TRANSFORMERS_CACHE='./'\n",
    "import json"
   ]
  },
  {
   "cell_type": "code",
   "execution_count": null,
   "id": "a6221a2b-817e-4cf1-95e9-24fc08eea37d",
   "metadata": {},
   "outputs": [],
   "source": [
    "import sys\n",
    "MGIT_PATH=os.path.dirname(os.path.dirname(os.path.dirname(os.getcwd())))\n",
    "sys.path.append(MGIT_PATH)\n",
    "from utils.lineage.graph import *\n",
    "from utils import meta_functions"
   ]
  },
  {
   "cell_type": "code",
   "execution_count": null,
   "id": "816d5e1b-9859-49f8-aa63-4136b6b1f196",
   "metadata": {},
   "outputs": [],
   "source": [
    "success_condition_path=os.getcwd()+'/user_functions.py'\n",
    "success_condition_name='test_success_condition'"
   ]
  },
  {
   "cell_type": "code",
   "execution_count": null,
   "id": "2d9253d1-ed76-4130-b603-77e8e6999b59",
   "metadata": {},
   "outputs": [],
   "source": [
    "compute_metrics_path=os.getcwd()+'/user_functions.py'\n",
    "compute_metrics_name='compute_metrics'"
   ]
  },
  {
   "cell_type": "code",
   "execution_count": null,
   "id": "ffd022d3-20cf-40aa-b4de-2d7c90c8283c",
   "metadata": {},
   "outputs": [],
   "source": [
    "lineage_eval_dataset = LineageDataset(\"nyu-mll/glue\", \"sst2\", split=\"validation\", cache_dir=TRANSFORMERS_CACHE, feature_keys=['sentence'])"
   ]
  },
  {
   "cell_type": "code",
   "execution_count": null,
   "id": "603d26a2-ddde-4f0e-acb7-c94835f72083",
   "metadata": {},
   "outputs": [],
   "source": [
    "#lineage_train_dataset = LineageDataset(\"glue\", \"sst2\", split=\"train\", cache_dir=TRANSFORMERS_CACHE, feature_keys=['premise','hypothesis'])\n",
    "lineage_train_dataset = LineageDataset(\"nyu-mll/glue\", \"sst2\", split=\"validation\", cache_dir=TRANSFORMERS_CACHE, feature_keys=['sentence'])"
   ]
  },
  {
   "cell_type": "code",
   "execution_count": null,
   "id": "82e22e13-5a32-40ed-8e44-637c44cb41b6",
   "metadata": {},
   "outputs": [],
   "source": [
    "preprocess_file = os.path.join(MGIT_PATH,'utils/preprocess_utils.py')\n",
    "preprocess_function = 'glue_preprocess_function'"
   ]
  },
  {
   "cell_type": "code",
   "execution_count": null,
   "id": "d87cdc06-6159-4856-b7f2-6739ff4148ef",
   "metadata": {},
   "outputs": [],
   "source": [
    "!rm -rf tmp_sst2_node1\n",
    "!rm -rf tmp_sst2_node2\n",
    "!rm -rf tmp_sst2_node3\n",
    "!rm -rf parameter_store\n",
    "!rm *.json"
   ]
  },
  {
   "cell_type": "code",
   "execution_count": null,
   "id": "f2e4c0b2-0626-4036-9cb6-2089ef154630",
   "metadata": {},
   "outputs": [],
   "source": [
    "!../../../mgit init"
   ]
  },
  {
   "cell_type": "code",
   "execution_count": null,
   "id": "702c8343-05ca-417e-9f7b-f5b45e4c39cc",
   "metadata": {},
   "outputs": [],
   "source": [
    "lineage_train = LineageTrain(\n",
    "    preprocess_function_path=preprocess_file,\n",
    "    preprocess_function_name=preprocess_function,\n",
    "    train_dataset=lineage_train_dataset,\n",
    "    eval_dataset=lineage_eval_dataset,\n",
    "    num_train_epochs=1,\n",
    "    learning_rate=2e-5,\n",
    "    per_device_train_batch_size=32,\n",
    "    per_device_eval_batch_size=32,\n",
    ")\n",
    "node1 = LineageNode(\n",
    "    init_checkpoint='roberta-base',\n",
    "    lineage_train=lineage_train,\n",
    "    output_dir='tmp_sst2_node1',\n",
    ")\n",
    "node_config = node1.to_json()\n",
    "with open(\"root.json\", \"w\") as fp:\n",
    "    json.dump(node_config, fp)"
   ]
  },
  {
   "cell_type": "code",
   "execution_count": null,
   "id": "e8877361-5ded-4477-8620-b683e81a1da2",
   "metadata": {},
   "outputs": [],
   "source": [
    "!../../../mgit add -node_config ./root.json"
   ]
  },
  {
   "cell_type": "code",
   "execution_count": null,
   "id": "fb14ebd7-2401-4a47-94a7-fbbbedc0065c",
   "metadata": {},
   "outputs": [],
   "source": [
    "lineage_train = LineageTrain(\n",
    "    preprocess_function_path=preprocess_file,\n",
    "    preprocess_function_name=preprocess_function,\n",
    "    train_dataset=lineage_train_dataset,\n",
    "    eval_dataset=lineage_eval_dataset,\n",
    "    num_train_epochs=1,\n",
    "    learning_rate=2e-5,\n",
    "    per_device_train_batch_size=32,\n",
    "    per_device_eval_batch_size=32,\n",
    ")\n",
    "node2 = LineageNode(\n",
    "    init_checkpoint='roberta-base',\n",
    "    model_init_function_path=success_condition_path,\n",
    "    model_init_function_name='vanilla_finetune_init_function',\n",
    "    lineage_train=lineage_train,\n",
    "    output_dir='tmp_sst2_node2',\n",
    "    is_delta=True,\n",
    ")\n",
    "node2_config = node2.to_json()\n",
    "with open(\"node2.json\", \"w\") as fp:\n",
    "    json.dump(node2_config, fp)"
   ]
  },
  {
   "cell_type": "code",
   "execution_count": null,
   "id": "757d286c-8a3d-45ee-b3a6-05adeda80e84",
   "metadata": {},
   "outputs": [],
   "source": [
    "!../../../mgit add -node_config ./node2.json -e adapted versioned -parent tmp_sst2_node1"
   ]
  },
  {
   "cell_type": "code",
   "execution_count": null,
   "id": "75517298-4a68-4e64-a964-8437100e86b4",
   "metadata": {},
   "outputs": [],
   "source": [
    "lineage_train = LineageTrain(\n",
    "    preprocess_function_path=preprocess_file,\n",
    "    preprocess_function_name=preprocess_function,\n",
    "    train_dataset=lineage_train_dataset,\n",
    "    eval_dataset=lineage_eval_dataset,\n",
    "    num_train_epochs=1,\n",
    "    learning_rate=2e-5,\n",
    "    per_device_train_batch_size=32,\n",
    "    per_device_eval_batch_size=32,\n",
    ")\n",
    "node3 = LineageNode(\n",
    "    init_checkpoint='roberta-base',\n",
    "    model_init_function_path=success_condition_path,\n",
    "    model_init_function_name='vanilla_finetune_init_function',\n",
    "    lineage_train=lineage_train,\n",
    "    output_dir='tmp_sst2_node3',\n",
    "    is_delta=True,\n",
    ")\n",
    "node3_config = node3.to_json()\n",
    "with open(\"node3.json\", \"w\") as fp:\n",
    "    json.dump(node3_config, fp)"
   ]
  },
  {
   "cell_type": "code",
   "execution_count": null,
   "id": "9e8f2cc0-f3a7-4116-b61d-f1d2279e067c",
   "metadata": {},
   "outputs": [],
   "source": [
    "!../../../mgit add -node_config ./node3.json -e adapted versioned -parent tmp_sst2_node2"
   ]
  },
  {
   "cell_type": "code",
   "execution_count": null,
   "id": "ca868b0b-0351-48c9-a60e-1e53bae0629a",
   "metadata": {},
   "outputs": [],
   "source": [
    "test1 = LineageTest(\n",
    "        preprocess_function_path=preprocess_file,\n",
    "        preprocess_function_name=preprocess_function,        \n",
    "        eval_dataset=lineage_eval_dataset,\n",
    "        test_success_condition_path=success_condition_path,\n",
    "        test_success_condition_name=success_condition_name,\n",
    "        compute_metrics_path=compute_metrics_path,\n",
    "        compute_metrics_name=compute_metrics_name,\n",
    "        metric_for_best_model='accuracy',\n",
    "        name='test1',\n",
    ")\n",
    "test_config = test1.to_json()\n",
    "with open(\"test.json\", \"w\") as fp:\n",
    "    json.dump(test_config, fp)"
   ]
  },
  {
   "cell_type": "code",
   "execution_count": null,
   "id": "726f46e7-4385-48b1-88f0-12953ef1161a",
   "metadata": {},
   "outputs": [],
   "source": [
    "!../../../mgit test -n tmp_sst2_node1 -test_config ./test.json\n",
    "!../../../mgit test -n tmp_sst2_node2 -test_config ./test.json\n",
    "!../../../mgit test -n tmp_sst2_node3 -test_config ./test.json"
   ]
  },
  {
   "cell_type": "code",
   "execution_count": null,
   "id": "7631be85-3b50-4617-96cb-6e4d43faeae6",
   "metadata": {},
   "outputs": [],
   "source": [
    "!../../../mgit train -n tmp_sst2_node1"
   ]
  },
  {
   "cell_type": "code",
   "execution_count": null,
   "id": "2ec3111b-0123-456c-a137-6a71bd9ac353",
   "metadata": {},
   "outputs": [],
   "source": [
    "!../../../mgit train -n tmp_sst2_node2"
   ]
  },
  {
   "cell_type": "code",
   "execution_count": null,
   "id": "a4e69564-1d7e-4482-b391-38b2b8ea3b9e",
   "metadata": {},
   "outputs": [],
   "source": [
    "!../../../mgit train -n tmp_sst2_node3"
   ]
  },
  {
   "cell_type": "code",
   "execution_count": null,
   "id": "299f7d46-a571-4488-b82b-8781fc4fe178",
   "metadata": {},
   "outputs": [],
   "source": [
    "!../../../mgit test -n tmp_sst2_node1 -t test1 -exe"
   ]
  },
  {
   "cell_type": "code",
   "execution_count": null,
   "id": "c726e805-c9d3-44fb-9989-26445ff012ee",
   "metadata": {},
   "outputs": [],
   "source": [
    "!../../../mgit test -n tmp_sst2_node2 -t test1 -exe"
   ]
  },
  {
   "cell_type": "code",
   "execution_count": null,
   "id": "ac9de67f-ef2b-442c-9831-b5331fdcf3d7",
   "metadata": {},
   "outputs": [],
   "source": [
    "!../../../mgit test -n tmp_sst2_node3 -t test1 -exe"
   ]
  },
  {
   "cell_type": "code",
   "execution_count": null,
   "id": "5f6f2b8f-daf6-4e07-81e2-60d6be1be1d2",
   "metadata": {},
   "outputs": [],
   "source": [
    "!../../../mgit display_test -metrics"
   ]
  },
  {
   "cell_type": "code",
   "execution_count": null,
   "id": "26eb8d8d-9a32-4568-a503-4b4245febd8d",
   "metadata": {},
   "outputs": [],
   "source": []
  }
 ],
 "metadata": {
  "kernelspec": {
   "display_name": "Python 3 (ipykernel)",
   "language": "python",
   "name": "python3"
  },
  "language_info": {
   "codemirror_mode": {
    "name": "ipython",
    "version": 3
   },
   "file_extension": ".py",
   "mimetype": "text/x-python",
   "name": "python",
   "nbconvert_exporter": "python",
   "pygments_lexer": "ipython3",
   "version": "3.8.5"
  }
 },
 "nbformat": 4,
 "nbformat_minor": 5
}
