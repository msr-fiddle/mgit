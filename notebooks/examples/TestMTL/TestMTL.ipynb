{
 "cells": [
  {
   "cell_type": "code",
   "execution_count": null,
   "metadata": {
    "pycharm": {
     "name": "#%%\n"
    }
   },
   "outputs": [],
   "source": [
    "import os\n",
    "import matplotlib.pyplot as plt\n",
    "GPU_NO = \"2\"\n",
    "os.environ[\"CUDA_VISIBLE_DEVICES\"] = GPU_NO\n",
    "TRANSFORMERS_CACHE='/workspace/HF_cache/transformers_cache/'\n",
    "import torch"
   ]
  },
  {
   "cell_type": "code",
   "execution_count": null,
   "metadata": {
    "pycharm": {
     "name": "#%%\n"
    }
   },
   "outputs": [],
   "source": [
    "MGIT_PATH=os.path.dirname(os.path.dirname(os.path.dirname(os.getcwd())))\n",
    "import sys\n",
    "sys.path.append(MGIT_PATH)\n",
    "from utils.lineage.graph import *\n",
    "from utils import meta_functions"
   ]
  },
  {
   "cell_type": "code",
   "execution_count": null,
   "metadata": {
    "pycharm": {
     "name": "#%%\n"
    }
   },
   "outputs": [],
   "source": [
    "preprocess_file = MGIT_PATH + '/utils/preprocess_utils.py'\n",
    "user_file=os.getcwd()+'/user_functions.py'\n",
    "perturbation_file = MGIT_PATH + '/utils/perturbation_utils.py'"
   ]
  },
  {
   "cell_type": "code",
   "execution_count": null,
   "metadata": {
    "pycharm": {
     "name": "#%%\n"
    }
   },
   "outputs": [],
   "source": [
    "!rm -rf tmp_MTL_cola\n",
    "!rm -rf tmp_MTL_sst2\n",
    "!rm -rf tmp_MTL_mlm\n",
    "!rm -rf parameter_store"
   ]
  },
  {
   "cell_type": "code",
   "execution_count": null,
   "metadata": {
    "pycharm": {
     "name": "#%%\n"
    }
   },
   "outputs": [],
   "source": [
    "\"\"\"\n",
    "g = LineageGraph()\n",
    "g.save('./')\n",
    "\"\"\"\n",
    "!../../../mgit init"
   ]
  },
  {
   "cell_type": "code",
   "execution_count": null,
   "metadata": {
    "pycharm": {
     "name": "#%%\n"
    }
   },
   "outputs": [],
   "source": [
    "\"\"\"\n",
    "g.load('./')\n",
    "root = LineageNode.load_from_file('./root.json')\n",
    "\n",
    "g.add(root)\n",
    "g.save('./')\n",
    "\"\"\"\n",
    "!../../../mgit add -node_config ./root.json"
   ]
  },
  {
   "cell_type": "code",
   "execution_count": null,
   "metadata": {
    "pycharm": {
     "name": "#%%\n"
    },
    "scrolled": true
   },
   "outputs": [],
   "source": [
    "\"\"\"\n",
    "g.load('./')\n",
    "cola_node = LineageNode.load_from_file('./cola_node.json')\n",
    "\n",
    "g.add(cola_node,parent='tmp_MTL_mlm',etype='adapted')\n",
    "\n",
    "g.save('./')\n",
    "\"\"\"\n",
    "!../../../mgit add -node_config ./cola_node.json -parent tmp_MTL_mlm -e adapted"
   ]
  },
  {
   "cell_type": "code",
   "execution_count": null,
   "metadata": {
    "pycharm": {
     "name": "#%%\n"
    }
   },
   "outputs": [],
   "source": [
    "\"\"\"\n",
    "g.load('./')\n",
    "sst2_node = LineageNode.load_from_file('./sst2_node.json')\n",
    "\n",
    "g.add(sst2_node,etype='adapted',parent='tmp_MTL_mlm')\n",
    "\n",
    "n = g.show()\n",
    "\n",
    "g.save('./')\n",
    "\"\"\"\n",
    "!../../../mgit add -node_config ./sst2_node.json -parent tmp_MTL_mlm -e adapted"
   ]
  },
  {
   "cell_type": "code",
   "execution_count": null,
   "metadata": {
    "pycharm": {
     "name": "#%%\n"
    }
   },
   "outputs": [],
   "source": [
    "g = LineageGraph.load_from_file('./')\n",
    "assert set(['tmp_MTL_sst2', 'tmp_MTL_cola']) == set([entry.output_dir for entry in g.entanglement_tracker.get_entangled(g.nodes['tmp_MTL_sst2'])])"
   ]
  },
  {
   "cell_type": "code",
   "execution_count": null,
   "metadata": {
    "pycharm": {
     "name": "#%%\n"
    }
   },
   "outputs": [],
   "source": [
    "g = LineageGraph.load_from_file('./')\n",
    "assert len(g.entanglement_tracker.temporary_nodes) == len(g.nodes)"
   ]
  },
  {
   "cell_type": "code",
   "execution_count": null,
   "metadata": {
    "pycharm": {
     "name": "#%%\n"
    }
   },
   "outputs": [],
   "source": [
    "!../../../mgit downward_train -n tmp_MTL_sst2"
   ]
  },
  {
   "cell_type": "code",
   "execution_count": null,
   "metadata": {
    "pycharm": {
     "name": "#%%\n"
    }
   },
   "outputs": [],
   "source": [
    "g = LineageGraph.load_from_file('./')\n",
    "assert torch.equal(g.nodes['tmp_MTL_sst2'].get_model().model.roberta.encoder.layer[0].attention.self.query.weight, g.nodes['tmp_MTL_cola'].get_model().model.roberta.encoder.layer[0].attention.self.query.weight)"
   ]
  },
  {
   "cell_type": "code",
   "execution_count": null,
   "metadata": {
    "pycharm": {
     "name": "#%%\n"
    }
   },
   "outputs": [],
   "source": [
    "\"\"\"\n",
    "g = LineageGraph.load_from_file('./')\n",
    "g.nodes['tmp_MTL_sst2'].add_test_from_file('./sst2_test.json')\n",
    "g.save('./')\n",
    "\"\"\"\n",
    "!../../../mgit test -n tmp_MTL_sst2 -test_config ./sst2_test.json -exe"
   ]
  },
  {
   "cell_type": "code",
   "execution_count": null,
   "metadata": {
    "pycharm": {
     "name": "#%%\n"
    }
   },
   "outputs": [],
   "source": [
    "\"\"\"\n",
    "g = LineageGraph.load_from_file('./')\n",
    "g.nodes['tmp_MTL_cola'].add_test_from_file('./cola_test.json')\n",
    "g.save('./')\n",
    "\"\"\"\n",
    "!../../../mgit test -n tmp_MTL_cola -test_config ./cola_test.json -exe"
   ]
  },
  {
   "cell_type": "code",
   "execution_count": null,
   "metadata": {
    "pycharm": {
     "name": "#%%\n"
    }
   },
   "outputs": [],
   "source": [
    "g = LineageGraph.load_from_file('./')\n",
    "assert g.nodes['tmp_MTL_sst2'].is_test_failure() is False"
   ]
  },
  {
   "cell_type": "code",
   "execution_count": null,
   "metadata": {
    "pycharm": {
     "name": "#%%\n"
    }
   },
   "outputs": [],
   "source": [
    "g = LineageGraph.load_from_file('./')\n",
    "assert g.nodes['tmp_MTL_cola'].is_test_failure() is False"
   ]
  },
  {
   "cell_type": "code",
   "execution_count": null,
   "metadata": {
    "pycharm": {
     "name": "#%%\n"
    }
   },
   "outputs": [],
   "source": [
    "g = LineageGraph.load_from_file('./')\n",
    "assert set(['tmp_MTL_sst2', 'tmp_MTL_cola']) == set([entry.output_dir for entry in g.entanglement_tracker.get_entangled(g.nodes['tmp_MTL_cola'])])"
   ]
  },
  {
   "cell_type": "code",
   "execution_count": null,
   "metadata": {
    "pycharm": {
     "name": "#%%\n"
    }
   },
   "outputs": [],
   "source": [
    "!../../../mgit display_test -metrics"
   ]
  },
  {
   "cell_type": "code",
   "execution_count": null,
   "metadata": {
    "pycharm": {
     "name": "#%%\n"
    }
   },
   "outputs": [],
   "source": [
    "res = !du -s tmp_MTL_cola\n",
    "cola_store = int(res[0].split('\\t')[0])\n",
    "\n",
    "res = !du -s tmp_MTL_sst2\n",
    "sst2_store = int(res[0].split('\\t')[0])\n",
    "\n",
    "res = !du -s tmp_MTL_mlm\n",
    "mlm_store = int(res[0].split('\\t')[0])\n",
    "\n",
    "res = !du -s parameter_store\n",
    "global_store = int(res[0].split('\\t')[0])\n",
    "\n",
    "print('storage savings:',(cola_store+sst2_store+mlm_store)/global_store)"
   ]
  },
  {
   "cell_type": "code",
   "execution_count": null,
   "metadata": {
    "pycharm": {
     "name": "#%%\n"
    }
   },
   "outputs": [],
   "source": [
    "!rm -rf tmp_MTL_cola\n",
    "!rm -rf tmp_MTL_sst2\n",
    "!rm -rf tmp_MTL_mlm\n",
    "!rm -rf parameter_store"
   ]
  },
  {
   "cell_type": "code",
   "execution_count": null,
   "metadata": {
    "pycharm": {
     "name": "#%%\n"
    }
   },
   "outputs": [],
   "source": []
  }
 ],
 "metadata": {
  "kernelspec": {
   "display_name": "Python 3",
   "language": "python",
   "name": "python3"
  },
  "language_info": {
   "codemirror_mode": {
    "name": "ipython",
    "version": 3
   },
   "file_extension": ".py",
   "mimetype": "text/x-python",
   "name": "python",
   "nbconvert_exporter": "python",
   "pygments_lexer": "ipython3",
   "version": "3.8.8"
  }
 },
 "nbformat": 4,
 "nbformat_minor": 5
}
