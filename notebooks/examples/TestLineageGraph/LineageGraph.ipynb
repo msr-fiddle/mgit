{
 "cells": [
  {
   "cell_type": "code",
   "execution_count": null,
   "metadata": {},
   "outputs": [],
   "source": [
    "import os\n",
    "os.environ[\"CUDA_VISIBLE_DEVICES\"] = '2'\n",
    "os.environ['HF_HOME'] = '/workspace/HF_cache/'\n",
    "os.environ['HF_DATASETS_CACHE'] = '/workspace/HF_cache/datasets'\n",
    "os.environ['TRANSFORMERS_CACHE'] = '/workspace/HF_cache/transformers_cache/'"
   ]
  },
  {
   "cell_type": "code",
   "execution_count": null,
   "metadata": {
    "pycharm": {
     "name": "#%%\n"
    }
   },
   "outputs": [],
   "source": [
    "import arxiv\n",
    "import sys\n",
    "import torch\n",
    "import transformers\n",
    "import copy\n",
    "import numpy as np\n",
    "\n",
    "from transformers import AutoConfig, AutoModelForQuestionAnswering, AutoModelForSequenceClassification \n",
    "from collections import defaultdict,OrderedDict\n",
    "\n",
    "import sys\n",
    "MGIT_PATH=os.path.dirname(os.path.dirname(os.path.dirname(os.getcwd())))\n",
    "sys.path.append(MGIT_PATH)\n",
    "from utils.lineage.graph import *\n",
    "from utils import meta_functions"
   ]
  },
  {
   "cell_type": "code",
   "execution_count": null,
   "metadata": {
    "pycharm": {
     "name": "#%%\n"
    }
   },
   "outputs": [],
   "source": [
    "# To control logging level for various modules used in the application:\n",
    "import logging\n",
    "import re\n",
    "def set_global_logging_level(level=logging.ERROR, prefices=[\"\"]):\n",
    "    \"\"\"\n",
    "    Override logging levels of different modules based on their name as a prefix.\n",
    "    It needs to be invoked after the modules have been loaded so that their loggers have been initialized.\n",
    "\n",
    "    Args:\n",
    "        - level: desired level. e.g. logging.INFO. Optional. Default is logging.ERROR\n",
    "        - prefices: list of one or more str prefices to match (e.g. [\"transformers\", \"torch\"]). Optional.\n",
    "          Default is `[\"\"]` to match all active loggers.\n",
    "          The match is a case-sensitive `module_name.startswith(prefix)`\n",
    "    \"\"\"\n",
    "    prefix_re = re.compile(fr'^(?:{ \"|\".join(prefices) })')\n",
    "    for name in logging.root.manager.loggerDict:\n",
    "        if re.match(prefix_re, name):\n",
    "            logging.getLogger(name).setLevel(level)\n",
    "            \n",
    "set_global_logging_level(logging.ERROR, [\"transformers\"])"
   ]
  },
  {
   "cell_type": "code",
   "execution_count": null,
   "metadata": {
    "pycharm": {
     "name": "#%%\n"
    }
   },
   "outputs": [],
   "source": [
    "import warnings\n",
    "warnings.filterwarnings('ignore')"
   ]
  },
  {
   "cell_type": "code",
   "execution_count": null,
   "metadata": {
    "pycharm": {
     "name": "#%%\n"
    }
   },
   "outputs": [],
   "source": [
    "preprocess_file = MGIT_PATH + '/utils/preprocess_utils.py'\n",
    "user_file = MGIT_PATH +'/experiments/creation/user_functions.py'\n",
    "perturbation_file = MGIT_PATH + '/utils/perturbation_utils.py'"
   ]
  },
  {
   "cell_type": "markdown",
   "metadata": {
    "pycharm": {
     "name": "#%% md\n"
    }
   },
   "source": [
    "# Random Shuffle Model Pool"
   ]
  },
  {
   "cell_type": "code",
   "execution_count": null,
   "metadata": {
    "pycharm": {
     "name": "#%%\n"
    }
   },
   "outputs": [],
   "source": [
    "bert_mlm_cased = 'bert-base-cased'#bert-base-cased Nov 15, 2018\n",
    "bert_mlm_uncased = 'bert-base-uncased'#bert-base-uncased Nov 15, 2018\n",
    "\n",
    "bert_squad2_uncased_frozen = 'ericRosello/bert-base-uncased-finetuned-squad-frozen-v2' #ericRosello/bert-base-uncased-finetuned-squad-frozen-v2 \n",
    "#Jan 4, 2022\n",
    "bert_mnli ='aloxatel/bert-base-mnli' #aloxatel/bert-base-mnli Jul 28, 2020\n",
    "bert_mlm_large_cased = 'bert-large-cased'#bert-large-cased Nov 30, 2018\n",
    "bert_mlm_large_uncased = 'bert-large-uncased'#bert-large-uncased Nov 15, 2018\n",
    "bert_mnli_large = 'TehranNLP-org/bert-large-mnli' #TehranNLP-org/bert-large-mnli Apr 30, 2022\n",
    "bert_squad2_uncased = 'deepset/bert-base-uncased-squad2' #deepset/bert-base-uncased-squad2 Jan 14, 2022\n",
    "\n",
    "roberta_mlm_large = 'roberta-large'#roberta-large  Aug 5, 2019\n",
    "roberta_mnli_large = 'roberta-large-mnli'#roberta-large-mnli Aug 5, 2019\n",
    "roberta_squad2_large = 'deepset/roberta-large-squad2'#deepset/roberta-large-squad2 Mar 11, 2021\n",
    "roberta_mlm = 'roberta-base'#roberta-base Aug 4, 2019\n",
    "roberta_mnli = 'textattack/roberta-base-MNLI'#textattack/roberta-base-MNLI Jun 7, 2020\n",
    "roberta_squad2 ='deepset/roberta-base-squad2' #deepset/roberta-base-squad2 Jan 22, 2020\n",
    "\n",
    "albert_mlm = 'albert-base-v2'#albert-base-v2 Nov 4, 2019\n",
    "albert_mnli = 'prajjwal1/albert-base-v2-mnli'#prajjwal1/albert-base-v2-mnli May 26, 2020\n",
    "albert_squad2 = 'twmkn9/albert-base-v2-squad2' #twmkn9/albert-base-v2-squad2 Mar 9, 2020\n",
    "\n",
    "distilbert_mlm_cased = 'distilbert-base-cased'#distilbert-base-cased Feb 7, 2020\n",
    "distilbert_mlm_uncased = 'distilbert-base-uncased'#distilbert-base-uncased Aug 28, 2019\n",
    "distilbert_squad2_uncased = 'twmkn9/distilbert-base-uncased-squad2'#twmkn9/distilbert-base-uncased-squad2 Mar 23, 2020\n",
    "distilbert_squad2_uncased_frozen = 'ericRosello/distilbert-base-uncased-finetuned-squad-frozen-v2'#ericRosello/distilbert-base-uncased-finetuned-squad-frozen-v2\n",
    "#Jan 4, 2022\n",
    "\n",
    "electra_mlm_small = 'google/electra-small-generator' #google/electra-small-generator Mar 24, 2020\n",
    "electra_mnli_small = 'howey/electra-small-mnli' #howey/electra-small-mnli Apr 15, 2021"
   ]
  },
  {
   "cell_type": "code",
   "execution_count": null,
   "metadata": {
    "pycharm": {
     "name": "#%%\n"
    }
   },
   "outputs": [],
   "source": [
    "timestamps = [(bert_mlm_cased, '11/15/2018'),\n",
    "(bert_mlm_uncased, '11/15/2018'),\n",
    "(bert_squad2_uncased_frozen, '01/04/2022'),\n",
    "(bert_mnli, '07/28/2020'),\n",
    "(bert_mlm_large_cased, '11/30/2018'),\n",
    "(bert_mlm_large_uncased, '11/15/2018'),\n",
    "(bert_mnli_large, '04/30/2022'),\n",
    "(bert_squad2_uncased, '01/14/2022'),\n",
    "(roberta_mlm_large, '08/05/2019'),\n",
    "(roberta_mnli_large, '08/05/2019'),\n",
    "(roberta_squad2_large, '03/11/2021'),\n",
    "(roberta_mlm, '08/04/2019'),\n",
    "(roberta_mnli, '06/07/2020'),\n",
    "(roberta_squad2, '01/22/2020'),\n",
    "(albert_mlm, '11/04/2019'),\n",
    "(albert_mnli, '05/26/2020'),\n",
    "(albert_squad2, '03/09/2020'),\n",
    "(distilbert_mlm_cased, '02/07/2020'),\n",
    "(distilbert_mlm_uncased, '08/28/2019'),\n",
    "(distilbert_squad2_uncased, '03/23/2020'),\n",
    "(distilbert_squad2_uncased_frozen, '01/04/2022'),\n",
    "(electra_mlm_small, '03/24/2020'),\n",
    "(electra_mnli_small, '04/15/2021'),]"
   ]
  },
  {
   "cell_type": "code",
   "execution_count": null,
   "metadata": {
    "pycharm": {
     "name": "#%%\n"
    }
   },
   "outputs": [],
   "source": [
    "model_types = dict([(bert_mlm_cased, 'mlm'),\n",
    "(bert_mlm_uncased, 'mlm'),\n",
    "(bert_squad2_uncased_frozen, 'squad'),\n",
    "(bert_mnli, 'mnli'),\n",
    "(bert_mlm_large_cased, 'mlm'),\n",
    "(bert_mlm_large_uncased, 'mlm'),\n",
    "(bert_mnli_large, 'mnli'),\n",
    "(bert_squad2_uncased, 'squad'),\n",
    "(roberta_mlm_large, 'mlm'),\n",
    "(roberta_mnli_large, 'mnli'),\n",
    "(roberta_squad2_large, 'squad'),\n",
    "(roberta_mlm, 'mlm'),\n",
    "(roberta_mnli, 'mnli'),\n",
    "(roberta_squad2, 'squad'),\n",
    "(albert_mlm, 'mlm'),\n",
    "(albert_mnli, 'mnli'),\n",
    "(albert_squad2, 'squad'),\n",
    "(distilbert_mlm_cased, 'mlm'),\n",
    "(distilbert_mlm_uncased, 'mlm'),\n",
    "(distilbert_squad2_uncased, 'squad'),\n",
    "(distilbert_squad2_uncased_frozen, 'squad'),\n",
    "(electra_mlm_small, 'mlm'),\n",
    "(electra_mnli_small, 'mnli'),])"
   ]
  },
  {
   "cell_type": "code",
   "execution_count": null,
   "metadata": {
    "pycharm": {
     "name": "#%%\n"
    }
   },
   "outputs": [],
   "source": [
    "task_types = dict([(bert_mlm_cased, 'MaskedLM'),\n",
    "(bert_mlm_uncased, 'MaskedLM'),\n",
    "(bert_squad2_uncased_frozen, 'question_answering'),\n",
    "(bert_mnli, 'sequence_classification'),\n",
    "(bert_mlm_large_cased, 'MaskedLM'),\n",
    "(bert_mlm_large_uncased, 'MaskedLM'),\n",
    "(bert_mnli_large, 'sequence_classification'),\n",
    "(bert_squad2_uncased, 'question_answering'),\n",
    "(roberta_mlm_large, 'MaskedLM'),\n",
    "(roberta_mnli_large, 'sequence_classification'),\n",
    "(roberta_squad2_large, 'question_answering'),\n",
    "(roberta_mlm, 'MaskedLM'),\n",
    "(roberta_mnli, 'sequence_classification'),\n",
    "(roberta_squad2, 'question_answering'),\n",
    "(albert_mlm, 'MaskedLM'),\n",
    "(albert_mnli, 'sequence_classification'),\n",
    "(albert_squad2, 'question_answering'),\n",
    "(distilbert_mlm_cased, 'MaskedLM'),\n",
    "(distilbert_mlm_uncased, 'MaskedLM'),\n",
    "(distilbert_squad2_uncased, 'question_answering'),\n",
    "(distilbert_squad2_uncased_frozen, 'question_answering'),\n",
    "(electra_mlm_small, 'MaskedLM'),\n",
    "(electra_mnli_small, 'sequence_classification'),])"
   ]
  },
  {
   "cell_type": "code",
   "execution_count": null,
   "metadata": {
    "pycharm": {
     "name": "#%%\n"
    }
   },
   "outputs": [],
   "source": [
    "import random\n",
    "model_pool = [\n",
    "    bert_mlm_cased,\n",
    "    bert_mlm_uncased,\n",
    "    bert_mlm_large_cased,\n",
    "    bert_mlm_large_uncased,\n",
    "    \n",
    "    bert_mnli,\n",
    "    bert_squad2_uncased_frozen,\n",
    "    bert_mnli_large,\n",
    "    bert_squad2_uncased,\n",
    "    \n",
    "    roberta_mlm_large,\n",
    "    roberta_mlm,\n",
    "    \n",
    "    roberta_mnli_large,\n",
    "    roberta_squad2_large,\n",
    "    roberta_mnli,\n",
    "    roberta_squad2,\n",
    "\n",
    "    distilbert_mlm_cased,\n",
    "    distilbert_mlm_uncased,\n",
    "    distilbert_squad2_uncased_frozen,\n",
    "    distilbert_squad2_uncased,\n",
    "\n",
    "\n",
    "    albert_mlm,\n",
    "    albert_mnli,\n",
    "    albert_squad2,\n",
    "\n",
    "    electra_mlm_small,\n",
    "    electra_mnli_small]\n",
    "\n",
    "random.shuffle(model_pool)\n",
    "print(model_pool)"
   ]
  },
  {
   "cell_type": "markdown",
   "metadata": {
    "pycharm": {
     "name": "#%% md\n"
    }
   },
   "source": [
    "# Insertion Order: model family + number_hidden_layer + timestamp"
   ]
  },
  {
   "cell_type": "code",
   "execution_count": null,
   "metadata": {
    "pycharm": {
     "name": "#%%\n"
    }
   },
   "outputs": [],
   "source": [
    "import time\n",
    "import datetime\n",
    "golden_model_pool = list(zip(*sorted(timestamps, key=lambda x: time.mktime(datetime.datetime.strptime(x[1],\n",
    "                                             \"%m/%d/%Y\").timetuple())) ))[0] "
   ]
  },
  {
   "cell_type": "code",
   "execution_count": null,
   "metadata": {
    "pycharm": {
     "name": "#%%\n"
    }
   },
   "outputs": [],
   "source": [
    "for model in golden_model_pool:\n",
    "    os.system('touch '+ '--'.join([os.environ['TRANSFORMERS_CACHE']+'models'] + model.split('/')))\n",
    "    time.sleep(1)"
   ]
  },
  {
   "cell_type": "code",
   "execution_count": null,
   "metadata": {
    "pycharm": {
     "name": "#%%\n"
    }
   },
   "outputs": [],
   "source": [
    "def load_config(checkpoint_filepath):\n",
    "    return AutoConfig.from_pretrained(checkpoint_filepath)"
   ]
  },
  {
   "cell_type": "code",
   "execution_count": null,
   "metadata": {
    "pycharm": {
     "name": "#%%\n"
    }
   },
   "outputs": [],
   "source": [
    "def config_sort(model_ckpt):\n",
    "    print(model_ckpt)\n",
    "    config = load_config(model_ckpt)\n",
    "    arch_index = float('inf')\n",
    "    longest_len = 0\n",
    "    for arch in ordered_arch:\n",
    "        if arch in config.__dict__[\"architectures\"][0].casefold() and len(arch) > longest_len:\n",
    "            arch_index = ordered_arch.index(arch)\n",
    "            longest_len = len(arch)\n",
    "    try:\n",
    "        n_layers = config.__dict__[\"num_hidden_layers\"]\n",
    "    except:\n",
    "        try:\n",
    "            n_layers = config.__dict__[\"n_layers\"]\n",
    "        except:\n",
    "            n_layers = config.__dict__[\"num_layers\"]\n",
    "        \n",
    "    model_ckpt = '--'.join([os.environ['TRANSFORMERS_CACHE']+'models'] + model_ckpt.split('/'))\n",
    "    print(model_ckpt, arch_index, n_layers, os.path.getmtime(model_ckpt))\n",
    "    return (arch_index, n_layers, os.path.getmtime(model_ckpt))"
   ]
  },
  {
   "cell_type": "code",
   "execution_count": null,
   "metadata": {
    "pycharm": {
     "name": "#%%\n"
    }
   },
   "outputs": [],
   "source": [
    "family_doi = {'bert':'1810.04805', 'distilbert':'1910.01108', 'roberta':'1907.11692', 'albert':'1909.11942', 'electra': '2003.10555'}\n",
    "search = arxiv.Search(\n",
    "  id_list = list(family_doi.values())\n",
    ")\n",
    "published_time = []\n",
    "\n",
    "for result in search.results():\n",
    "    print(result.title)\n",
    "    published_time.append(result.published)\n",
    "    \n",
    "ordered_arch = list(zip(*sorted(list(zip(family_doi, published_time)), key=lambda x: x[1]) ))[0]\n",
    "print(ordered_arch)"
   ]
  },
  {
   "cell_type": "code",
   "execution_count": null,
   "metadata": {
    "pycharm": {
     "name": "#%%\n"
    }
   },
   "outputs": [],
   "source": [
    "model_pool = sorted(model_pool, key=lambda a: config_sort(a))"
   ]
  },
  {
   "cell_type": "markdown",
   "metadata": {
    "pycharm": {
     "name": "#%% md\n"
    }
   },
   "source": [
    "# Create Tests"
   ]
  },
  {
   "cell_type": "code",
   "execution_count": null,
   "metadata": {
    "pycharm": {
     "name": "#%%\n"
    }
   },
   "outputs": [],
   "source": [
    "mlm_lineage_eval_dataset = LineageDataset('wikitext','wikitext-103-raw-v1',split='validation',feature_keys=['text'])"
   ]
  },
  {
   "cell_type": "code",
   "execution_count": null,
   "metadata": {
    "pycharm": {
     "name": "#%%\n"
    }
   },
   "outputs": [],
   "source": [
    "squad_lineage_eval_dataset = LineageDataset(\"squad_v2\",split=\"validation\",feature_keys=['context','question'])"
   ]
  },
  {
   "cell_type": "code",
   "execution_count": null,
   "metadata": {
    "pycharm": {
     "name": "#%%\n"
    }
   },
   "outputs": [],
   "source": [
    "squadv1_lineage_eval_dataset = LineageDataset(\"squad\",split=\"validation\",feature_keys=['context','question'])"
   ]
  },
  {
   "cell_type": "code",
   "execution_count": null,
   "metadata": {
    "pycharm": {
     "name": "#%%\n"
    }
   },
   "outputs": [],
   "source": [
    "mnli_lineage_eval_dataset = LineageDataset(\"glue\", \"mnli\", split=\"validation_matched\", feature_keys=['premise','hypothesis'])"
   ]
  },
  {
   "cell_type": "code",
   "execution_count": null,
   "metadata": {
    "pycharm": {
     "name": "#%%\n"
    }
   },
   "outputs": [],
   "source": [
    "mlm_test = LineageTest(\n",
    "        preprocess_function_path=preprocess_file,\n",
    "        preprocess_function_name='mlm_preprocess_function',\n",
    "        eval_dataset=mlm_lineage_eval_dataset,\n",
    "        metric_for_best_model='loss',\n",
    "        name='mlm',\n",
    ")"
   ]
  },
  {
   "cell_type": "code",
   "execution_count": null,
   "metadata": {
    "pycharm": {
     "name": "#%%\n"
    }
   },
   "outputs": [],
   "source": [
    "mnli_test = LineageTest(\n",
    "        custom_test_function_path=user_file,\n",
    "        custom_test_function_name='mnli_custom_test_function',\n",
    "        eval_dataset=mnli_lineage_eval_dataset,\n",
    "        metric_for_best_model='accuracy',\n",
    "        name='mnli',\n",
    ")"
   ]
  },
  {
   "cell_type": "code",
   "execution_count": null,
   "metadata": {
    "pycharm": {
     "name": "#%%\n"
    }
   },
   "outputs": [],
   "source": [
    "squadv2_test = LineageTest(\n",
    "        preprocess_function_path=preprocess_file,\n",
    "        preprocess_function_name='squad_preprocess_validation_function',\n",
    "        eval_dataset=squad_lineage_eval_dataset,\n",
    "        postprocess_function_path=preprocess_file,\n",
    "        postprocess_function_name='postprocess_squad2_predictions',\n",
    "        metric_for_best_model='f1',\n",
    "        name='squad_v2',\n",
    ")"
   ]
  },
  {
   "cell_type": "code",
   "execution_count": null,
   "metadata": {
    "pycharm": {
     "name": "#%%\n"
    }
   },
   "outputs": [],
   "source": [
    "squadv1_test = LineageTest(\n",
    "        preprocess_function_path=preprocess_file,\n",
    "        preprocess_function_name='squad_preprocess_validation_function',\n",
    "        eval_dataset=squadv1_lineage_eval_dataset,\n",
    "        postprocess_function_path=preprocess_file,\n",
    "        postprocess_function_name='postprocess_squad_predictions',\n",
    "        metric_for_best_model='f1',\n",
    "        name='squad_v1',\n",
    ")"
   ]
  },
  {
   "cell_type": "markdown",
   "metadata": {
    "pycharm": {
     "name": "#%% md\n"
    }
   },
   "source": [
    "# Build Graph"
   ]
  },
  {
   "cell_type": "code",
   "execution_count": null,
   "metadata": {
    "pycharm": {
     "name": "#%%\n"
    }
   },
   "outputs": [],
   "source": [
    "g = LineageGraph(compression_mode='lzma', single_model_compression=False)\n",
    "g.register_test_to_type(mlm_test,'mlm')\n",
    "g.register_test_to_type(mnli_test,'mnli')\n",
    "g.register_test_to_type(squadv2_test,'squad')\n",
    "g.register_test_to_type(squadv1_test,'squad')"
   ]
  },
  {
   "cell_type": "code",
   "execution_count": null,
   "metadata": {},
   "outputs": [],
   "source": [
    "scales = [1]"
   ]
  },
  {
   "cell_type": "code",
   "execution_count": null,
   "metadata": {
    "pycharm": {
     "name": "#%%\n"
    },
    "scrolled": true
   },
   "outputs": [],
   "source": [
    "import time\n",
    "from tqdm import tqdm\n",
    "time_list = []\n",
    "\n",
    "for i in scales:\n",
    "    for j in tqdm(range(i)):\n",
    "        time_cost = 0\n",
    "        print('current scale factor: {0}, current time list: {1}'.format(j+1, time_list))\n",
    "        for model in model_pool:\n",
    "            print('Inserting: ' + model)\n",
    "            node = LineageNode(output_dir=model + '_v{0}'.format(str(j)), init_checkpoint=model, \\\n",
    "                               model_type=model_types[model], task_type=task_types[model], is_delta=True)\n",
    "            start = time.time()\n",
    "            if not g.add(node) :\n",
    "                g.add_root(node)\n",
    "            end = time.time()\n",
    "            for ex_node in g.nodes.values():\n",
    "                if ex_node.is_unload:\n",
    "                    ex_node.unload_model(save_model=False)\n",
    "            print('\\n')\n",
    "            time_cost += end - start\n",
    "        \n",
    "        n = g.show(save_path=\"./LineageGraph_v{0}.html\".format(str(j)))\n",
    "        time_list.append(time_cost)"
   ]
  },
  {
   "cell_type": "code",
   "execution_count": null,
   "metadata": {},
   "outputs": [],
   "source": [
    "g.save('./',save_models=False)"
   ]
  }
 ],
 "metadata": {
  "kernelspec": {
   "display_name": "Python 3",
   "language": "python",
   "name": "python3"
  },
  "language_info": {
   "codemirror_mode": {
    "name": "ipython",
    "version": 3
   },
   "file_extension": ".py",
   "mimetype": "text/x-python",
   "name": "python",
   "nbconvert_exporter": "python",
   "pygments_lexer": "ipython3",
   "version": "3.8.8"
  }
 },
 "nbformat": 4,
 "nbformat_minor": 5
}
