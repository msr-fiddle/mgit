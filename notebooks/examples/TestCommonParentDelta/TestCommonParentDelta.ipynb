{
 "cells": [
  {
   "cell_type": "code",
   "execution_count": null,
   "metadata": {
    "pycharm": {
     "name": "#%%\n"
    }
   },
   "outputs": [],
   "source": [
    "import os\n",
    "#GPU_NO = \"3\"\n",
    "#os.environ[\"CUDA_VISIBLE_DEVICES\"] = GPU_NO\n",
    "TRANSFORMERS_CACHE='/workspace/HF_cache/transformers_cache/'\n",
    "import sys\n",
    "MGIT_PATH=os.path.dirname(os.path.dirname(os.path.dirname(os.getcwd())))\n",
    "sys.path.append(MGIT_PATH)"
   ]
  },
  {
   "cell_type": "code",
   "execution_count": null,
   "metadata": {
    "pycharm": {
     "name": "#%%\n"
    }
   },
   "outputs": [],
   "source": [
    "from utils.lineage.graph import *\n",
    "from utils import meta_functions"
   ]
  },
  {
   "cell_type": "code",
   "execution_count": null,
   "metadata": {
    "pycharm": {
     "name": "#%%\n"
    }
   },
   "outputs": [],
   "source": [
    "success_condition_path=os.getcwd()+'/user_functions.py'\n",
    "success_condition_name='test_success_condition'"
   ]
  },
  {
   "cell_type": "code",
   "execution_count": null,
   "metadata": {
    "pycharm": {
     "name": "#%%\n"
    }
   },
   "outputs": [],
   "source": [
    "compute_metrics_path=os.getcwd()+'/user_functions.py'\n",
    "compute_metrics_name='compute_metrics'"
   ]
  },
  {
   "cell_type": "code",
   "execution_count": null,
   "metadata": {
    "pycharm": {
     "name": "#%%\n"
    }
   },
   "outputs": [],
   "source": [
    "lineage_eval_dataset = LineageDataset(\"glue\", \"sst2\", split=\"validation\", cache_dir=TRANSFORMERS_CACHE, feature_keys=['sentence'])"
   ]
  },
  {
   "cell_type": "code",
   "execution_count": null,
   "metadata": {
    "pycharm": {
     "name": "#%%\n"
    }
   },
   "outputs": [],
   "source": [
    "#lineage_train_dataset = LineageDataset(\"glue\", \"sst2\", split=\"train\", cache_dir=TRANSFORMERS_CACHE, feature_keys=['premise','hypothesis'])\n",
    "lineage_train_dataset = LineageDataset(\"glue\", \"sst2\", split=\"validation\", cache_dir=TRANSFORMERS_CACHE, feature_keys=['sentence'])"
   ]
  },
  {
   "cell_type": "code",
   "execution_count": null,
   "metadata": {
    "pycharm": {
     "name": "#%%\n"
    }
   },
   "outputs": [],
   "source": [
    "preprocess_file = os.path.join(MGIT_PATH,'utils/preprocess_utils.py')\n",
    "preprocess_function = 'glue_preprocess_function'"
   ]
  },
  {
   "cell_type": "code",
   "execution_count": null,
   "metadata": {
    "pycharm": {
     "name": "#%%\n"
    }
   },
   "outputs": [],
   "source": [
    "perturbation_file = os.path.join(MGIT_PATH,'utils/perturbations/perturbation_utils.py')\n",
    "perturbation_name = 'perturb_char_misspelledword'"
   ]
  },
  {
   "cell_type": "code",
   "execution_count": null,
   "metadata": {
    "pycharm": {
     "name": "#%%\n"
    }
   },
   "outputs": [],
   "source": [
    "!rm -rf tmp_sst2_node1\n",
    "!rm -rf tmp_sst2_node2\n",
    "!rm -rf tmp_sst2_node3\n",
    "!rm -rf parameter_store"
   ]
  },
  {
   "cell_type": "code",
   "execution_count": null,
   "metadata": {},
   "outputs": [],
   "source": [
    "g = LineageGraph()"
   ]
  },
  {
   "cell_type": "code",
   "execution_count": null,
   "metadata": {
    "pycharm": {
     "name": "#%%\n"
    }
   },
   "outputs": [],
   "source": [
    "test1 = LineageTest(\n",
    "        preprocess_function_path=preprocess_file,\n",
    "        preprocess_function_name=preprocess_function,        \n",
    "        eval_dataset=lineage_eval_dataset,\n",
    "        test_success_condition_path=success_condition_path,\n",
    "        test_success_condition_name=success_condition_name,\n",
    "        compute_metrics_path=compute_metrics_path,\n",
    "        compute_metrics_name=compute_metrics_name,\n",
    "        metric_for_best_model='accuracy',\n",
    "        name='test1',\n",
    ")\n",
    "g.register_test_to_type(test1,'sst2')"
   ]
  },
  {
   "cell_type": "code",
   "execution_count": null,
   "metadata": {
    "pycharm": {
     "name": "#%%\n"
    }
   },
   "outputs": [],
   "source": [
    "lineage_train = LineageTrain(\n",
    "    preprocess_function_path=preprocess_file,\n",
    "    preprocess_function_name=preprocess_function,\n",
    "    train_dataset=lineage_train_dataset,\n",
    "    eval_dataset=lineage_eval_dataset,\n",
    "    num_train_epochs=2,\n",
    "    learning_rate=2e-5,\n",
    "    per_device_train_batch_size=64,\n",
    "    per_device_eval_batch_size=64,\n",
    ")\n",
    "node1 = LineageNode(\n",
    "    init_checkpoint='roberta-base',\n",
    "    lineage_train=lineage_train,\n",
    "    output_dir='tmp_sst2_node1',\n",
    "    model_type='sst2'\n",
    ")\n",
    "\n",
    "g.add(node1)"
   ]
  },
  {
   "cell_type": "code",
   "execution_count": null,
   "metadata": {
    "pycharm": {
     "name": "#%%\n"
    }
   },
   "outputs": [],
   "source": [
    "lineage_train = LineageTrain(\n",
    "    preprocess_function_path=preprocess_file,\n",
    "    preprocess_function_name=preprocess_function,\n",
    "    train_dataset=lineage_train_dataset,\n",
    "    eval_dataset=lineage_eval_dataset,\n",
    "    num_train_epochs=1,\n",
    "    learning_rate=2e-5,\n",
    "    per_device_train_batch_size=64,\n",
    "    per_device_eval_batch_size=64,\n",
    ")\n",
    "node2 = LineageNode(\n",
    "    init_checkpoint='roberta-base',\n",
    "    model_init_function_path=success_condition_path,\n",
    "    model_init_function_name='vanilla_finetune_init_function',\n",
    "    lineage_train=lineage_train,\n",
    "    output_dir='tmp_sst2_node2',\n",
    "    model_type='sst2',\n",
    "    is_delta=True,\n",
    ")\n",
    "\n",
    "g.add(node2,etype='adapted',parent='tmp_sst2_node1')"
   ]
  },
  {
   "cell_type": "code",
   "execution_count": null,
   "metadata": {},
   "outputs": [],
   "source": [
    "lineage_train = LineageTrain(\n",
    "    preprocess_function_path=preprocess_file,\n",
    "    preprocess_function_name=preprocess_function,\n",
    "    train_dataset=lineage_train_dataset,\n",
    "    eval_dataset=lineage_eval_dataset,\n",
    "    num_train_epochs=2,\n",
    "    learning_rate=2e-5,\n",
    "    per_device_train_batch_size=64,\n",
    "    per_device_eval_batch_size=64,\n",
    ")\n",
    "node3 = LineageNode(\n",
    "    init_checkpoint='roberta-base',\n",
    "    model_init_function_path=success_condition_path,\n",
    "    model_init_function_name='vanilla_finetune_init_function',\n",
    "    lineage_train=lineage_train,\n",
    "    output_dir='tmp_sst2_node3',\n",
    "    model_type='sst2',\n",
    "    is_delta=True,\n",
    ")\n",
    "\n",
    "g.add(node3,etype='adapted',parent='tmp_sst2_node1')"
   ]
  },
  {
   "cell_type": "code",
   "execution_count": null,
   "metadata": {},
   "outputs": [],
   "source": [
    "g.show(etype=\"adapted\")"
   ]
  },
  {
   "cell_type": "code",
   "execution_count": null,
   "metadata": {},
   "outputs": [],
   "source": [
    "for node in g.nodes.values():\n",
    "    node.train()\n",
    "    node.run_all_tests()"
   ]
  },
  {
   "cell_type": "code",
   "execution_count": null,
   "metadata": {
    "pycharm": {
     "name": "#%%\n"
    }
   },
   "outputs": [],
   "source": [
    "meta_functions.show_result_table(g)"
   ]
  },
  {
   "cell_type": "code",
   "execution_count": null,
   "metadata": {
    "pycharm": {
     "name": "#%%\n"
    }
   },
   "outputs": [],
   "source": [
    "meta_functions.show_result_table(g,show_metrics=True)"
   ]
  },
  {
   "cell_type": "code",
   "execution_count": null,
   "metadata": {
    "pycharm": {
     "name": "#%%\n"
    }
   },
   "outputs": [],
   "source": [
    "for node in g.nodes.values():\n",
    "    assert node.is_test_failure() is False"
   ]
  },
  {
   "cell_type": "code",
   "execution_count": null,
   "metadata": {},
   "outputs": [],
   "source": [
    "for node in g.nodes.values():\n",
    "    node.unload_model()\n",
    "    node.run_all_tests()"
   ]
  },
  {
   "cell_type": "code",
   "execution_count": null,
   "metadata": {},
   "outputs": [],
   "source": [
    "meta_functions.show_result_table(g,show_metrics=True)"
   ]
  },
  {
   "cell_type": "code",
   "execution_count": null,
   "metadata": {},
   "outputs": [],
   "source": [
    "for k, v in node1.get_pt_model().state_dict().items():\n",
    "    delta = node2.get_pt_model().state_dict()[k] - v\n",
    "    print(delta)"
   ]
  },
  {
   "cell_type": "code",
   "execution_count": null,
   "metadata": {},
   "outputs": [],
   "source": [
    "res = !du -s tmp_sst2_node1\n",
    "node1_store = int(res[0].split('\\t')[0])\n",
    "\n",
    "res = !du -s tmp_sst2_node2\n",
    "node2_store = int(res[0].split('\\t')[0])\n",
    "\n",
    "res = !du -s tmp_sst2_node3\n",
    "node3_store = int(res[0].split('\\t')[0])\n",
    "\n",
    "res = !du -s parameter_store\n",
    "global_store = int(res[0].split('\\t')[0])\n",
    "\n",
    "print('storage savings:',(node1_store+node2_store+node3_store)/global_store)"
   ]
  },
  {
   "cell_type": "code",
   "execution_count": null,
   "metadata": {},
   "outputs": [],
   "source": []
  }
 ],
 "metadata": {
  "kernelspec": {
   "display_name": "Python 3",
   "language": "python",
   "name": "python3"
  },
  "language_info": {
   "codemirror_mode": {
    "name": "ipython",
    "version": 3
   },
   "file_extension": ".py",
   "mimetype": "text/x-python",
   "name": "python",
   "nbconvert_exporter": "python",
   "pygments_lexer": "ipython3",
   "version": "3.8.8"
  }
 },
 "nbformat": 4,
 "nbformat_minor": 5
}
