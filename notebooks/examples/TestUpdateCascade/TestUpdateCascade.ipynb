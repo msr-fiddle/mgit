{
 "cells": [
  {
   "cell_type": "code",
   "execution_count": null,
   "id": "f9a47f17",
   "metadata": {
    "pycharm": {
     "name": "#%%\n"
    }
   },
   "outputs": [],
   "source": [
    "import os\n",
    "os.environ['HF_HOME'] = './'\n",
    "os.environ['HF_DATASETS_CACHE'] = './'\n",
    "MGIT_PATH=os.path.dirname(os.path.dirname(os.path.dirname(os.getcwd())))"
   ]
  },
  {
   "cell_type": "code",
   "execution_count": null,
   "id": "4f47e7be",
   "metadata": {
    "pycharm": {
     "name": "#%%\n"
    }
   },
   "outputs": [],
   "source": [
    "import sys\n",
    "sys.path.append(MGIT_PATH)\n",
    "from utils.lineage.graph import *\n",
    "from utils import meta_functions"
   ]
  },
  {
   "cell_type": "code",
   "execution_count": null,
   "id": "69ce9fbc",
   "metadata": {
    "pycharm": {
     "name": "#%%\n"
    }
   },
   "outputs": [],
   "source": [
    "success_condition_path=os.getcwd()+'/user_functions.py'\n",
    "success_condition_name='test_success_condition'"
   ]
  },
  {
   "cell_type": "code",
   "execution_count": null,
   "id": "51b55157",
   "metadata": {
    "pycharm": {
     "name": "#%%\n"
    }
   },
   "outputs": [],
   "source": [
    "compute_metrics_path=os.getcwd()+'/user_functions.py'\n",
    "compute_metrics_name='compute_metrics'"
   ]
  },
  {
   "cell_type": "code",
   "execution_count": null,
   "id": "4c4d67ce",
   "metadata": {
    "pycharm": {
     "name": "#%%\n"
    }
   },
   "outputs": [],
   "source": [
    "lineage_eval_dataset = LineageDataset(\"glue\", \"sst2\", split=\"validation\", feature_keys=['sentence'])"
   ]
  },
  {
   "cell_type": "code",
   "execution_count": null,
   "id": "9c4838a6",
   "metadata": {
    "pycharm": {
     "name": "#%%\n"
    }
   },
   "outputs": [],
   "source": [
    "#lineage_train_dataset = LineageDataset(\"glue\", \"sst2\", split=\"train\", feature_keys=['sentence'])\n",
    "lineage_train_dataset = LineageDataset(\"glue\", \"sst2\", split=\"validation\", feature_keys=['sentence'])"
   ]
  },
  {
   "cell_type": "code",
   "execution_count": null,
   "id": "cc6d43ab",
   "metadata": {
    "pycharm": {
     "name": "#%%\n"
    }
   },
   "outputs": [],
   "source": [
    "preprocess_file = os.path.join(MGIT_PATH,'utils/preprocess_utils.py')\n",
    "preprocess_function = 'glue_preprocess_function'"
   ]
  },
  {
   "cell_type": "code",
   "execution_count": null,
   "id": "dfa2af74",
   "metadata": {
    "pycharm": {
     "name": "#%%\n"
    }
   },
   "outputs": [],
   "source": [
    "perturbation_file = os.path.join(MGIT_PATH,'utils/perturbations/perturbation_utils.py')\n",
    "perturbation_name = 'perturb_char_misspelledword'"
   ]
  },
  {
   "cell_type": "code",
   "execution_count": null,
   "id": "dd554c89",
   "metadata": {
    "pycharm": {
     "name": "#%%\n"
    }
   },
   "outputs": [],
   "source": [
    "!rm -rf tmp_sst2_node1\n",
    "!rm -rf tmp_sst2_node1_v2\n",
    "!rm -rf tmp_sst2_node2\n",
    "!rm -rf tmp_sst2_node2_versioned\n",
    "!rm -rf parameter_store\n",
    "!rm -rf tmp_trainer\n",
    "!rm -rf tmp_trainer_args"
   ]
  },
  {
   "cell_type": "code",
   "execution_count": null,
   "id": "49c61174",
   "metadata": {},
   "outputs": [],
   "source": [
    "g = LineageGraph()"
   ]
  },
  {
   "cell_type": "code",
   "execution_count": null,
   "id": "455da434",
   "metadata": {
    "pycharm": {
     "name": "#%%\n"
    }
   },
   "outputs": [],
   "source": [
    "test1 = LineageTest(\n",
    "        preprocess_function_path=preprocess_file,\n",
    "        preprocess_function_name=preprocess_function,        \n",
    "        eval_dataset=lineage_eval_dataset,\n",
    "        test_success_condition_path=success_condition_path,\n",
    "        test_success_condition_name=success_condition_name,\n",
    "        compute_metrics_path=compute_metrics_path,\n",
    "        compute_metrics_name=compute_metrics_name,\n",
    "        metric_for_best_model='accuracy',\n",
    "        name='test1',\n",
    ")\n",
    "g.register_test_to_type(test1,'sst2')"
   ]
  },
  {
   "cell_type": "markdown",
   "id": "e3495091",
   "metadata": {},
   "source": [
    "# Create root sst-2 node 1"
   ]
  },
  {
   "cell_type": "code",
   "execution_count": null,
   "id": "658574eb",
   "metadata": {
    "pycharm": {
     "name": "#%%\n"
    }
   },
   "outputs": [],
   "source": [
    "lineage_train = LineageTrain(\n",
    "    preprocess_function_path=preprocess_file,\n",
    "    preprocess_function_name=preprocess_function,\n",
    "    train_dataset=lineage_train_dataset,\n",
    "    eval_dataset=lineage_eval_dataset,\n",
    "    num_train_epochs=2,\n",
    "    learning_rate=2e-5,\n",
    "    per_device_train_batch_size=64,\n",
    "    per_device_eval_batch_size=64,\n",
    ")\n",
    "node1 = LineageNode(\n",
    "    init_checkpoint='roberta-base',\n",
    "    lineage_train=lineage_train,\n",
    "    output_dir='tmp_sst2_node1',\n",
    "    model_type='sst2'\n",
    ")\n",
    "\n",
    "g.add(node1)"
   ]
  },
  {
   "cell_type": "code",
   "execution_count": null,
   "id": "1b5d5ac8",
   "metadata": {},
   "outputs": [],
   "source": [
    "node1.is_training_finished()"
   ]
  },
  {
   "cell_type": "code",
   "execution_count": null,
   "id": "fb2be7e6",
   "metadata": {},
   "outputs": [],
   "source": [
    "node1.train()"
   ]
  },
  {
   "cell_type": "code",
   "execution_count": null,
   "id": "ec03551b",
   "metadata": {},
   "outputs": [],
   "source": [
    "for node in g.nodes.values():\n",
    "    node.run_all_tests()\n",
    "meta_functions.show_result_table(g,show_metrics=True)"
   ]
  },
  {
   "cell_type": "markdown",
   "id": "d754cfd3",
   "metadata": {},
   "source": [
    "# Create sst-2 node 2 from node 1"
   ]
  },
  {
   "cell_type": "code",
   "execution_count": null,
   "id": "7b619389",
   "metadata": {
    "pycharm": {
     "name": "#%%\n"
    }
   },
   "outputs": [],
   "source": [
    "lineage_train = LineageTrain(\n",
    "    preprocess_function_path=preprocess_file,\n",
    "    preprocess_function_name=preprocess_function,\n",
    "    train_dataset=lineage_train_dataset,\n",
    "    eval_dataset=lineage_eval_dataset,\n",
    "    num_train_epochs=1,\n",
    "    learning_rate=2e-5,\n",
    "    per_device_train_batch_size=64,\n",
    "    per_device_eval_batch_size=64,\n",
    ")\n",
    "node2 = LineageNode(\n",
    "    init_checkpoint='roberta-base',\n",
    "    model_init_function_path=success_condition_path,\n",
    "    model_init_function_name='vanilla_finetune_init_function',\n",
    "    lineage_train=lineage_train,\n",
    "    output_dir='tmp_sst2_node2',\n",
    "    model_type='sst2',\n",
    "    #is_delta=True,\n",
    ")\n",
    "\n",
    "g.add(node2,etype='adapted',parent='tmp_sst2_node1')"
   ]
  },
  {
   "cell_type": "code",
   "execution_count": null,
   "id": "210355c1",
   "metadata": {},
   "outputs": [],
   "source": [
    "node2.train()"
   ]
  },
  {
   "cell_type": "code",
   "execution_count": null,
   "id": "a58f05c0",
   "metadata": {},
   "outputs": [],
   "source": [
    "for node in g.nodes.values():\n",
    "    node.run_all_tests()\n",
    "meta_functions.show_result_table(g,show_metrics=True)"
   ]
  },
  {
   "cell_type": "markdown",
   "id": "2d7a7d0c",
   "metadata": {},
   "source": [
    "# Create sst-2 node 1 v2 from node 1"
   ]
  },
  {
   "cell_type": "code",
   "execution_count": null,
   "id": "f39d9ecc",
   "metadata": {},
   "outputs": [],
   "source": [
    "lineage_train = LineageTrain(\n",
    "    preprocess_function_path=preprocess_file,\n",
    "    preprocess_function_name=preprocess_function,\n",
    "    train_dataset=lineage_train_dataset,\n",
    "    eval_dataset=lineage_eval_dataset,\n",
    "    num_train_epochs=2,\n",
    "    learning_rate=2e-5,\n",
    "    per_device_train_batch_size=64,\n",
    "    per_device_eval_batch_size=64,\n",
    ")\n",
    "node1_v2 = LineageNode(\n",
    "    init_checkpoint='roberta-base',\n",
    "    model_init_function_path=success_condition_path,\n",
    "    model_init_function_name='vanilla_finetune_init_function',\n",
    "    lineage_train=lineage_train,\n",
    "    output_dir='tmp_sst2_node1_v2',\n",
    "    model_type='sst2',\n",
    "    #is_delta=True,\n",
    ")"
   ]
  },
  {
   "cell_type": "code",
   "execution_count": null,
   "id": "7a03529a",
   "metadata": {},
   "outputs": [],
   "source": [
    "g.add(node1_v2,etype='adapted',parent='tmp_sst2_node1')\n",
    "g.add(node1_v2,etype='versioned',parent='tmp_sst2_node1')"
   ]
  },
  {
   "cell_type": "code",
   "execution_count": null,
   "id": "62b58c84",
   "metadata": {},
   "outputs": [],
   "source": [
    "node1_v2.train()"
   ]
  },
  {
   "cell_type": "code",
   "execution_count": null,
   "id": "0cf12ed9",
   "metadata": {},
   "outputs": [],
   "source": [
    "for node in g.nodes.values():\n",
    "    node.run_all_tests()\n",
    "meta_functions.show_result_table(g,show_metrics=True)"
   ]
  },
  {
   "cell_type": "markdown",
   "id": "fbda015d",
   "metadata": {},
   "source": [
    "# update node1_v2 and all adapted children referencing node 1 "
   ]
  },
  {
   "cell_type": "code",
   "execution_count": null,
   "id": "f8a3d4db",
   "metadata": {},
   "outputs": [],
   "source": [
    "g.run_update_cascade(old_node=node1,updated_node=node1_v2)"
   ]
  },
  {
   "cell_type": "code",
   "execution_count": null,
   "id": "2a484066",
   "metadata": {},
   "outputs": [],
   "source": [
    "for node in g.nodes.values():\n",
    "    node.run_all_tests()"
   ]
  },
  {
   "cell_type": "code",
   "execution_count": null,
   "id": "a74928e3",
   "metadata": {},
   "outputs": [],
   "source": [
    "meta_functions.show_result_table(g,show_metrics=True)"
   ]
  },
  {
   "cell_type": "code",
   "execution_count": null,
   "id": "872354fd",
   "metadata": {},
   "outputs": [],
   "source": [
    "#g.show(etype=\"adapted\")"
   ]
  }
 ],
 "metadata": {
  "kernelspec": {
   "display_name": "Python 3 (ipykernel)",
   "language": "python",
   "name": "python3"
  },
  "language_info": {
   "codemirror_mode": {
    "name": "ipython",
    "version": 3
   },
   "file_extension": ".py",
   "mimetype": "text/x-python",
   "name": "python",
   "nbconvert_exporter": "python",
   "pygments_lexer": "ipython3",
   "version": "3.8.5"
  }
 },
 "nbformat": 4,
 "nbformat_minor": 5
}
